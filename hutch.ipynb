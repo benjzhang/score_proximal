{
 "cells": [
  {
   "cell_type": "code",
   "execution_count": 2,
   "metadata": {},
   "outputs": [],
   "source": [
    "import numpy as np\n",
    "import torch\n",
    "import torch.nn as nn\n",
    "from torch.autograd import grad\n",
    "from torch.autograd.functional import jacobian"
   ]
  },
  {
   "cell_type": "code",
   "execution_count": 15,
   "metadata": {},
   "outputs": [
    {
     "data": {
      "text/plain": [
       "tensor([ 0.,  1.,  1., -1.,  1.,  1.])"
      ]
     },
     "execution_count": 15,
     "metadata": {},
     "output_type": "execute_result"
    }
   ],
   "source": [
    "def rademacher(length: np.shape, prepend=False, dtype=torch.float32):\n",
    "    if prepend:\n",
    "        length += 1\n",
    "    rand = ((torch.rand(length) < 0.5)) * 2 - 1\n",
    "    if prepend:\n",
    "        rand[0] = 0\n",
    "    return rand.to(dtype)\n",
    "\n",
    "rademacher(5, prepend=True)\n"
   ]
  },
  {
   "cell_type": "code",
   "execution_count": 4,
   "metadata": {},
   "outputs": [],
   "source": [
    "def hutch_estimator(dim, num_samples): # need to take in the point to evaluate Laplacian at\n",
    "    assert num_samples, \"num_samples is zero\"\n",
    "\n",
    "    phi = (torch.tensor(0,1)<0.5)*2-1 # figure out how to take gradient of phi at input point\n",
    "    v = rademacher(dim, prepend=True)\n",
    "    b = 0\n",
    "    for i in range(num_samples):\n",
    "        a = jacobian(phi.grad()*v) # take another gradient\n",
    "        b += a*v\n",
    "    return b / num_samples\n",
    "    \n",
    "        \n",
    "        "
   ]
  }
 ],
 "metadata": {
  "kernelspec": {
   "display_name": "Python 3",
   "language": "python",
   "name": "python3"
  },
  "language_info": {
   "codemirror_mode": {
    "name": "ipython",
    "version": 3
   },
   "file_extension": ".py",
   "mimetype": "text/x-python",
   "name": "python",
   "nbconvert_exporter": "python",
   "pygments_lexer": "ipython3",
   "version": "3.11.1"
  },
  "orig_nbformat": 4
 },
 "nbformat": 4,
 "nbformat_minor": 2
}
